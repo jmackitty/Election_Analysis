{
 "cells": [
  {
   "cell_type": "code",
   "execution_count": null,
   "id": "03af4324",
   "metadata": {},
   "outputs": [],
   "source": [
    "#List of high schools"
   ]
  },
  {
   "cell_type": "code",
   "execution_count": 1,
   "id": "a02ff505",
   "metadata": {},
   "outputs": [],
   "source": [
    "high_schools = [\"Hernandez High School\", \"Figueroa High School\", \"Wilson High School\", \"Wrigth High School\"]"
   ]
  },
  {
   "cell_type": "code",
   "execution_count": null,
   "id": "f1ca9158",
   "metadata": {},
   "outputs": [],
   "source": [
    "import pandas as pd"
   ]
  }
 ],
 "metadata": {
  "kernelspec": {
   "display_name": "PythonData",
   "language": "python",
   "name": "pythondata"
  },
  "language_info": {
   "codemirror_mode": {
    "name": "ipython",
    "version": 3
   },
   "file_extension": ".py",
   "mimetype": "text/x-python",
   "name": "python",
   "nbconvert_exporter": "python",
   "pygments_lexer": "ipython3",
   "version": "3.9.7"
  }
 },
 "nbformat": 4,
 "nbformat_minor": 5
}
